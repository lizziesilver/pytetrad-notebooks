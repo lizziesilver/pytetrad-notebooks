{
  "nbformat": 4,
  "nbformat_minor": 0,
  "metadata": {
    "colab": {
      "provenance": [],
      "collapsed_sections": [
        "fUqeIElY_DCm",
        "FEUbeZG5An6M"
      ]
    },
    "kernelspec": {
      "name": "python3",
      "display_name": "Python 3"
    },
    "language_info": {
      "name": "python"
    }
  },
  "cells": [
    {
      "cell_type": "markdown",
      "source": [
        "# Py-Tetrad Example Notebook\n",
        "\n",
        "This is a tutorial on how to access [Tetrad](https://github.com/cmu-phil/tetrad) from Python, using [py-tetrad](https://github.com/cmu-phil/py-tetrad). It runs in Google Colab. \n",
        "\n",
        "Note that Colab resources are limited and are not persistent. If you want to keep your saved output, make a copy of this tutorial and move it out of Colab."
      ],
      "metadata": {
        "id": "3oWK1bDW3Tan"
      }
    },
    {
      "cell_type": "markdown",
      "source": [
        "## Setup"
      ],
      "metadata": {
        "id": "eyxWSo0GydJ5"
      }
    },
    {
      "cell_type": "code",
      "source": [
        "# check Python version\n",
        "print('Python version:')\n",
        "! python --version\n",
        "\n",
        "# check Java version. Colab comes with Java already installed\n",
        "print('\\nJava version:')\n",
        "!java -version\n",
        "\n",
        "# install required packages quietly (remove the \"-q\" flag to see output)\n",
        "print(\"\\nInstalling packages ...\")\n",
        "! pip install -q causal-learn JPype1 graphviz\n",
        "print('Done!')"
      ],
      "metadata": {
        "colab": {
          "base_uri": "https://localhost:8080/"
        },
        "id": "0lHb68rJ65_w",
        "outputId": "efa47a4b-d3ad-4c49-fba1-16e26cc5a5a8"
      },
      "execution_count": null,
      "outputs": [
        {
          "output_type": "stream",
          "name": "stdout",
          "text": [
            "Python version:\n",
            "Python 3.9.16\n",
            "\n",
            "Java version:\n",
            "openjdk version \"11.0.18\" 2023-01-17\n",
            "OpenJDK Runtime Environment (build 11.0.18+10-post-Ubuntu-0ubuntu120.04.1)\n",
            "OpenJDK 64-Bit Server VM (build 11.0.18+10-post-Ubuntu-0ubuntu120.04.1, mixed mode, sharing)\n",
            "\n",
            "Installing packages ...\n",
            "\u001b[2K     \u001b[90m━━━━━━━━━━━━━━━━━━━━━━━━━━━━━━━━━━━━━━━\u001b[0m \u001b[32m172.9/172.9 kB\u001b[0m \u001b[31m4.5 MB/s\u001b[0m eta \u001b[36m0:00:00\u001b[0m\n",
            "\u001b[2K     \u001b[90m━━━━━━━━━━━━━━━━━━━━━━━━━━━━━━━━━━━━━━\u001b[0m \u001b[32m465.3/465.3 kB\u001b[0m \u001b[31m20.4 MB/s\u001b[0m eta \u001b[36m0:00:00\u001b[0m\n",
            "\u001b[?25hDone!\n"
          ]
        }
      ]
    },
    {
      "cell_type": "code",
      "source": [
        "# clone tetrad repo if we haven't cloned it on a previous run of this notebook\n",
        "import os\n",
        "if not os.path.isdir('/content/py-tetrad'):\n",
        "    !git clone https://github.com/cmu-phil/py-tetrad/\n",
        "else:\n",
        "    print(('py-tetrad dir already exists, presumably because we cloned it \\n'\n",
        "           'already. You should be able to run the notebook. (If you run into '\n",
        "           '\\nproblems, try deleting the directory then re-cloning it.)'))"
      ],
      "metadata": {
        "colab": {
          "base_uri": "https://localhost:8080/"
        },
        "id": "bzW80EztDE8B",
        "outputId": "612a98dc-d686-41fd-8912-8da651ca02e4"
      },
      "execution_count": null,
      "outputs": [
        {
          "output_type": "stream",
          "name": "stdout",
          "text": [
            "Cloning into 'py-tetrad'...\n",
            "remote: Enumerating objects: 4083, done.\u001b[K\n",
            "remote: Counting objects: 100% (233/233), done.\u001b[K\n",
            "remote: Compressing objects: 100% (134/134), done.\u001b[K\n",
            "remote: Total 4083 (delta 169), reused 135 (delta 99), pack-reused 3850\u001b[K\n",
            "Receiving objects: 100% (4083/4083), 88.27 MiB | 24.06 MiB/s, done.\n",
            "Resolving deltas: 100% (2961/2961), done.\n"
          ]
        }
      ]
    },
    {
      "cell_type": "code",
      "source": [
        "# change working directory to pytetrad so all the relative imports work\n",
        "# (once pytetrad is installable as a package, we won't have to do this)\n",
        "%cd /content/py-tetrad/pytetrad"
      ],
      "metadata": {
        "colab": {
          "base_uri": "https://localhost:8080/"
        },
        "id": "B_zxxcMSCZrZ",
        "outputId": "e9f82154-f83d-4b18-8b4f-6bb969d98bc7"
      },
      "execution_count": null,
      "outputs": [
        {
          "output_type": "stream",
          "name": "stdout",
          "text": [
            "/content/py-tetrad/pytetrad\n"
          ]
        }
      ]
    },
    {
      "cell_type": "code",
      "source": [
        "# import python packages\n",
        "import graphviz  \n",
        "import pandas as pd\n",
        "import jpype.imports\n",
        "\n",
        "# here, jpype gives us the ability to import Tetrad classes from the jar\n",
        "try:\n",
        "    jpype.startJVM(classpath=[f\"resources/tetrad-gui-current-launch.jar\"])\n",
        "except OSError:\n",
        "    print(\"JVM already started\")\n",
        "\n",
        "# import Tetrad's search class\n",
        "import tools.TetradSearch as search"
      ],
      "metadata": {
        "id": "NYNv6vXFBXI0"
      },
      "execution_count": null,
      "outputs": []
    },
    {
      "cell_type": "markdown",
      "source": [
        "## Data"
      ],
      "metadata": {
        "id": "Tl1HKYpvyrZ5"
      }
    },
    {
      "cell_type": "code",
      "source": [
        "# load data\n",
        "data = pd.read_csv(\"resources/airfoil-self-noise.continuous.txt\", sep=\"\\t\")\n",
        "data = data.astype({col: \"float64\" for col in data.columns})"
      ],
      "metadata": {
        "id": "d1KiHf8VkEe5"
      },
      "execution_count": null,
      "outputs": []
    },
    {
      "cell_type": "markdown",
      "source": [
        "## Search"
      ],
      "metadata": {
        "id": "M8oWJjUpyzg7"
      }
    },
    {
      "cell_type": "code",
      "source": [
        "## Make a TetradSearch instance to run searches against. This helps to organize\n",
        "## the use of Tetrad search algorithms and hides the JPype code for those who\n",
        "## don't want to deal with it.\n",
        "search = search.TetradSearch(data)\n",
        "search.set_verbose(False)\n",
        "\n",
        "## Pick the score to use, in this case a continuous linear, Gaussian score.\n",
        "search.use_sem_bic()\n",
        "search.use_fisher_z(alpha=0.05)"
      ],
      "metadata": {
        "id": "Vl2kAZrmkNXu"
      },
      "execution_count": null,
      "outputs": []
    },
    {
      "cell_type": "code",
      "source": [
        "# now we'll try a couple of search algorithms\n",
        "print('FGES')\n",
        "search.run_fges()  # learn the graph with FGES\n",
        "# display the learned graph\n",
        "graphviz.Source(search.get_dot())"
      ],
      "metadata": {
        "colab": {
          "base_uri": "https://localhost:8080/",
          "height": 481
        },
        "id": "-HWW7wmAh_iP",
        "outputId": "a8a3dd85-9fb0-42ce-cb37-c88e38f7b958"
      },
      "execution_count": null,
      "outputs": [
        {
          "output_type": "stream",
          "name": "stdout",
          "text": [
            "FGES\n"
          ]
        },
        {
          "output_type": "execute_result",
          "data": {
            "image/svg+xml": "<?xml version=\"1.0\" encoding=\"UTF-8\" standalone=\"no\"?>\n<!DOCTYPE svg PUBLIC \"-//W3C//DTD SVG 1.1//EN\"\n \"http://www.w3.org/Graphics/SVG/1.1/DTD/svg11.dtd\">\n<!-- Generated by graphviz version 2.43.0 (0)\n -->\n<!-- Title: g Pages: 1 -->\n<svg width=\"237pt\" height=\"332pt\"\n viewBox=\"0.00 0.00 237.06 332.00\" xmlns=\"http://www.w3.org/2000/svg\" xmlns:xlink=\"http://www.w3.org/1999/xlink\">\n<g id=\"graph0\" class=\"graph\" transform=\"scale(1 1) rotate(0) translate(4 328)\">\n<title>g</title>\n<polygon fill=\"white\" stroke=\"transparent\" points=\"-4,4 -4,-328 233.06,-328 233.06,4 -4,4\"/>\n<!-- Attack -->\n<g id=\"node1\" class=\"node\">\n<title>Attack</title>\n<ellipse fill=\"none\" stroke=\"black\" cx=\"104.3\" cy=\"-162\" rx=\"34.39\" ry=\"18\"/>\n<text text-anchor=\"middle\" x=\"104.3\" y=\"-158.3\" font-family=\"Times,serif\" font-size=\"14.00\">Attack</text>\n</g>\n<!-- Frequency -->\n<g id=\"node2\" class=\"node\">\n<title>Frequency</title>\n<ellipse fill=\"none\" stroke=\"black\" cx=\"128.3\" cy=\"-90\" rx=\"48.19\" ry=\"18\"/>\n<text text-anchor=\"middle\" x=\"128.3\" y=\"-86.3\" font-family=\"Times,serif\" font-size=\"14.00\">Frequency</text>\n</g>\n<!-- Attack&#45;&gt;Frequency -->\n<g id=\"edge1\" class=\"edge\">\n<title>Attack&#45;&gt;Frequency</title>\n<path fill=\"none\" stroke=\"black\" d=\"M110.11,-144.05C112.81,-136.18 116.09,-126.62 119.11,-117.79\"/>\n<polygon fill=\"black\" stroke=\"black\" points=\"122.44,-118.87 122.37,-108.28 115.82,-116.6 122.44,-118.87\"/>\n</g>\n<!-- Pressure -->\n<g id=\"node3\" class=\"node\">\n<title>Pressure</title>\n<ellipse fill=\"none\" stroke=\"black\" cx=\"128.3\" cy=\"-18\" rx=\"40.09\" ry=\"18\"/>\n<text text-anchor=\"middle\" x=\"128.3\" y=\"-14.3\" font-family=\"Times,serif\" font-size=\"14.00\">Pressure</text>\n</g>\n<!-- Attack&#45;&gt;Pressure -->\n<g id=\"edge2\" class=\"edge\">\n<title>Attack&#45;&gt;Pressure</title>\n<path fill=\"none\" stroke=\"black\" d=\"M91.12,-145.36C77.7,-127.42 60.3,-97.23 71.3,-72 76.93,-59.07 87.45,-47.87 97.93,-39.14\"/>\n<polygon fill=\"black\" stroke=\"black\" points=\"100.12,-41.87 105.86,-32.96 95.82,-36.35 100.12,-41.87\"/>\n</g>\n<!-- Frequency&#45;&gt;Pressure -->\n<g id=\"edge9\" class=\"edge\">\n<title>Frequency&#45;&gt;Pressure</title>\n<path fill=\"none\" stroke=\"black\" d=\"M128.3,-71.7C128.3,-63.98 128.3,-54.71 128.3,-46.11\"/>\n<polygon fill=\"black\" stroke=\"black\" points=\"131.8,-46.1 128.3,-36.1 124.8,-46.1 131.8,-46.1\"/>\n</g>\n<!-- Chord -->\n<g id=\"node4\" class=\"node\">\n<title>Chord</title>\n<ellipse fill=\"none\" stroke=\"black\" cx=\"168.3\" cy=\"-234\" rx=\"32.49\" ry=\"18\"/>\n<text text-anchor=\"middle\" x=\"168.3\" y=\"-230.3\" font-family=\"Times,serif\" font-size=\"14.00\">Chord</text>\n</g>\n<!-- Chord&#45;&gt;Attack -->\n<g id=\"edge3\" class=\"edge\">\n<title>Chord&#45;&gt;Attack</title>\n<path fill=\"none\" stroke=\"black\" d=\"M154.09,-217.46C145.64,-208.22 134.76,-196.32 125.33,-186\"/>\n<polygon fill=\"black\" stroke=\"black\" points=\"127.79,-183.51 118.46,-178.49 122.63,-188.23 127.79,-183.51\"/>\n</g>\n<!-- Chord&#45;&gt;Frequency -->\n<g id=\"edge4\" class=\"edge\">\n<title>Chord&#45;&gt;Frequency</title>\n<path fill=\"none\" stroke=\"black\" d=\"M164.84,-215.79C161.07,-197.75 154.6,-168.66 147.3,-144 144.73,-135.34 141.54,-126.02 138.51,-117.65\"/>\n<polygon fill=\"black\" stroke=\"black\" points=\"141.7,-116.19 134.95,-108.02 135.14,-118.62 141.7,-116.19\"/>\n</g>\n<!-- Chord&#45;&gt;Pressure -->\n<g id=\"edge5\" class=\"edge\">\n<title>Chord&#45;&gt;Pressure</title>\n<path fill=\"none\" stroke=\"black\" d=\"M175.36,-216.18C186.93,-185.93 206.63,-120.96 185.3,-72 179.66,-59.07 169.15,-47.87 158.66,-39.14\"/>\n<polygon fill=\"black\" stroke=\"black\" points=\"160.78,-36.35 150.74,-32.96 156.47,-41.87 160.78,-36.35\"/>\n</g>\n<!-- Displacement -->\n<g id=\"node5\" class=\"node\">\n<title>Displacement</title>\n<ellipse fill=\"none\" stroke=\"black\" cx=\"168.3\" cy=\"-306\" rx=\"59.59\" ry=\"18\"/>\n<text text-anchor=\"middle\" x=\"168.3\" y=\"-302.3\" font-family=\"Times,serif\" font-size=\"14.00\">Displacement</text>\n</g>\n<!-- Displacement&#45;&gt;Attack -->\n<g id=\"edge6\" class=\"edge\">\n<title>Displacement&#45;&gt;Attack</title>\n<path fill=\"none\" stroke=\"black\" d=\"M152.71,-288.53C144.1,-278.62 133.85,-265.37 127.3,-252 117.67,-232.35 111.76,-208.23 108.34,-190.05\"/>\n<polygon fill=\"black\" stroke=\"black\" points=\"111.78,-189.37 106.61,-180.12 104.88,-190.57 111.78,-189.37\"/>\n</g>\n<!-- Displacement&#45;&gt;Pressure -->\n<g id=\"edge8\" class=\"edge\">\n<title>Displacement&#45;&gt;Pressure</title>\n<path fill=\"none\" stroke=\"black\" d=\"M185.61,-288.61C194.55,-278.93 204.56,-265.87 209.3,-252 222.75,-212.63 248.49,-154.99 203.3,-72 194.9,-56.58 179.84,-44.62 165.42,-35.99\"/>\n<polygon fill=\"black\" stroke=\"black\" points=\"167.01,-32.87 156.58,-31.05 163.6,-38.98 167.01,-32.87\"/>\n</g>\n<!-- Displacement&#45;&gt;Chord -->\n<g id=\"edge7\" class=\"edge\">\n<title>Displacement&#45;&gt;Chord</title>\n<path fill=\"none\" stroke=\"black\" d=\"M168.3,-287.7C168.3,-276.85 168.3,-262.92 168.3,-252.1\"/>\n</g>\n<!-- Velocity -->\n<g id=\"node6\" class=\"node\">\n<title>Velocity</title>\n<ellipse fill=\"none\" stroke=\"black\" cx=\"40.3\" cy=\"-234\" rx=\"40.09\" ry=\"18\"/>\n<text text-anchor=\"middle\" x=\"40.3\" y=\"-230.3\" font-family=\"Times,serif\" font-size=\"14.00\">Velocity</text>\n</g>\n<!-- Velocity&#45;&gt;Attack -->\n<g id=\"edge10\" class=\"edge\">\n<title>Velocity&#45;&gt;Attack</title>\n<path fill=\"none\" stroke=\"black\" d=\"M54.82,-217.12C63.17,-207.99 73.8,-196.36 83.07,-186.22\"/>\n<polygon fill=\"black\" stroke=\"black\" points=\"85.67,-188.56 89.83,-178.82 80.5,-183.84 85.67,-188.56\"/>\n</g>\n<!-- Velocity&#45;&gt;Frequency -->\n<g id=\"edge11\" class=\"edge\">\n<title>Velocity&#45;&gt;Frequency</title>\n<path fill=\"none\" stroke=\"black\" d=\"M41.01,-215.98C42.52,-197.06 47.15,-166.23 61.3,-144 69.56,-131.01 82.14,-119.84 94.17,-111.15\"/>\n<polygon fill=\"black\" stroke=\"black\" points=\"96.49,-113.81 102.77,-105.27 92.54,-108.03 96.49,-113.81\"/>\n</g>\n<!-- Velocity&#45;&gt;Pressure -->\n<g id=\"edge12\" class=\"edge\">\n<title>Velocity&#45;&gt;Pressure</title>\n<path fill=\"none\" stroke=\"black\" d=\"M38.42,-215.86C35.88,-184.53 34.65,-117.11 64.3,-72 72.78,-59.1 85.35,-47.72 97.12,-38.85\"/>\n<polygon fill=\"black\" stroke=\"black\" points=\"99.39,-41.52 105.47,-32.84 95.31,-35.84 99.39,-41.52\"/>\n</g>\n</g>\n</svg>\n",
            "text/plain": [
              "<graphviz.sources.Source at 0x7fa0c59695e0>"
            ]
          },
          "metadata": {},
          "execution_count": 7
        }
      ]
    },
    {
      "cell_type": "code",
      "source": [
        "print('BOSS')\n",
        "search.run_boss()\n",
        "graphviz.Source(search.get_dot())"
      ],
      "metadata": {
        "colab": {
          "base_uri": "https://localhost:8080/",
          "height": 481
        },
        "id": "P3xF0l2eiK3Q",
        "outputId": "741b398a-ca41-421a-91a7-364db36fb8ee"
      },
      "execution_count": null,
      "outputs": [
        {
          "output_type": "stream",
          "name": "stdout",
          "text": [
            "BOSS\n"
          ]
        },
        {
          "output_type": "execute_result",
          "data": {
            "image/svg+xml": "<?xml version=\"1.0\" encoding=\"UTF-8\" standalone=\"no\"?>\n<!DOCTYPE svg PUBLIC \"-//W3C//DTD SVG 1.1//EN\"\n \"http://www.w3.org/Graphics/SVG/1.1/DTD/svg11.dtd\">\n<!-- Generated by graphviz version 2.43.0 (0)\n -->\n<!-- Title: g Pages: 1 -->\n<svg width=\"281pt\" height=\"332pt\"\n viewBox=\"0.00 0.00 281.17 332.00\" xmlns=\"http://www.w3.org/2000/svg\" xmlns:xlink=\"http://www.w3.org/1999/xlink\">\n<g id=\"graph0\" class=\"graph\" transform=\"scale(1 1) rotate(0) translate(4 328)\">\n<title>g</title>\n<polygon fill=\"white\" stroke=\"transparent\" points=\"-4,4 -4,-328 277.17,-328 277.17,4 -4,4\"/>\n<!-- Attack -->\n<g id=\"node1\" class=\"node\">\n<title>Attack</title>\n<ellipse fill=\"none\" stroke=\"black\" cx=\"48.37\" cy=\"-234\" rx=\"34.39\" ry=\"18\"/>\n<text text-anchor=\"middle\" x=\"48.37\" y=\"-230.3\" font-family=\"Times,serif\" font-size=\"14.00\">Attack</text>\n</g>\n<!-- Chord -->\n<g id=\"node2\" class=\"node\">\n<title>Chord</title>\n<ellipse fill=\"none\" stroke=\"black\" cx=\"126.37\" cy=\"-18\" rx=\"32.49\" ry=\"18\"/>\n<text text-anchor=\"middle\" x=\"126.37\" y=\"-14.3\" font-family=\"Times,serif\" font-size=\"14.00\">Chord</text>\n</g>\n<!-- Attack&#45;&gt;Chord -->\n<g id=\"edge1\" class=\"edge\">\n<title>Attack&#45;&gt;Chord</title>\n<path fill=\"none\" stroke=\"black\" d=\"M31.18,-218.19C21.27,-208.48 9.73,-194.85 4.37,-180 -1.06,-164.95 -1.66,-158.82 4.37,-144 23.11,-97.99 67.83,-59.67 97.6,-38.05\"/>\n<polygon fill=\"black\" stroke=\"black\" points=\"99.81,-40.78 105.94,-32.14 95.76,-35.07 99.81,-40.78\"/>\n</g>\n<!-- Frequency -->\n<g id=\"node3\" class=\"node\">\n<title>Frequency</title>\n<ellipse fill=\"none\" stroke=\"black\" cx=\"61.37\" cy=\"-162\" rx=\"48.19\" ry=\"18\"/>\n<text text-anchor=\"middle\" x=\"61.37\" y=\"-158.3\" font-family=\"Times,serif\" font-size=\"14.00\">Frequency</text>\n</g>\n<!-- Attack&#45;&gt;Frequency -->\n<g id=\"edge2\" class=\"edge\">\n<title>Attack&#45;&gt;Frequency</title>\n<path fill=\"none\" stroke=\"black\" d=\"M51.52,-216.05C52.95,-208.35 54.68,-199.03 56.29,-190.36\"/>\n<polygon fill=\"black\" stroke=\"black\" points=\"59.78,-190.75 58.17,-180.28 52.9,-189.47 59.78,-190.75\"/>\n</g>\n<!-- Frequency&#45;&gt;Chord -->\n<g id=\"edge6\" class=\"edge\">\n<title>Frequency&#45;&gt;Chord</title>\n<path fill=\"none\" stroke=\"black\" d=\"M69.09,-144.15C80.28,-119.71 101.12,-74.17 114.34,-45.29\"/>\n<polygon fill=\"black\" stroke=\"black\" points=\"117.69,-46.37 118.67,-35.82 111.33,-43.46 117.69,-46.37\"/>\n</g>\n<!-- Pressure -->\n<g id=\"node5\" class=\"node\">\n<title>Pressure</title>\n<ellipse fill=\"none\" stroke=\"black\" cx=\"194.37\" cy=\"-90\" rx=\"40.09\" ry=\"18\"/>\n<text text-anchor=\"middle\" x=\"194.37\" y=\"-86.3\" font-family=\"Times,serif\" font-size=\"14.00\">Pressure</text>\n</g>\n<!-- Frequency&#45;&gt;Pressure -->\n<g id=\"edge7\" class=\"edge\">\n<title>Frequency&#45;&gt;Pressure</title>\n<path fill=\"none\" stroke=\"black\" d=\"M88.29,-146.83C109.01,-135.93 137.8,-120.78 160.15,-109.01\"/>\n<polygon fill=\"black\" stroke=\"black\" points=\"162.08,-111.95 169.3,-104.2 158.82,-105.76 162.08,-111.95\"/>\n</g>\n<!-- Displacement -->\n<g id=\"node4\" class=\"node\">\n<title>Displacement</title>\n<ellipse fill=\"none\" stroke=\"black\" cx=\"213.37\" cy=\"-306\" rx=\"59.59\" ry=\"18\"/>\n<text text-anchor=\"middle\" x=\"213.37\" y=\"-302.3\" font-family=\"Times,serif\" font-size=\"14.00\">Displacement</text>\n</g>\n<!-- Displacement&#45;&gt;Attack -->\n<g id=\"edge3\" class=\"edge\">\n<title>Displacement&#45;&gt;Attack</title>\n<path fill=\"none\" stroke=\"black\" d=\"M179.98,-290.83C148.82,-277.61 102.94,-258.15 74.4,-246.04\"/>\n</g>\n<!-- Displacement&#45;&gt;Chord -->\n<g id=\"edge4\" class=\"edge\">\n<title>Displacement&#45;&gt;Chord</title>\n<path fill=\"none\" stroke=\"black\" d=\"M222.47,-288.12C243.09,-247.32 288.24,-141.58 243.37,-72 226.66,-46.08 193.85,-32.69 167.21,-25.87\"/>\n<polygon fill=\"black\" stroke=\"black\" points=\"167.89,-22.43 157.36,-23.56 166.29,-29.25 167.89,-22.43\"/>\n</g>\n<!-- Displacement&#45;&gt;Pressure -->\n<g id=\"edge5\" class=\"edge\">\n<title>Displacement&#45;&gt;Pressure</title>\n<path fill=\"none\" stroke=\"black\" d=\"M211.85,-287.85C208.57,-250.83 200.78,-163.18 196.81,-118.39\"/>\n<polygon fill=\"black\" stroke=\"black\" points=\"200.28,-117.88 195.9,-108.23 193.3,-118.5 200.28,-117.88\"/>\n</g>\n<!-- Pressure&#45;&gt;Chord -->\n<g id=\"edge8\" class=\"edge\">\n<title>Pressure&#45;&gt;Chord</title>\n<path fill=\"none\" stroke=\"black\" d=\"M178.94,-73.12C169.95,-63.86 158.46,-52.03 148.51,-41.79\"/>\n<polygon fill=\"black\" stroke=\"black\" points=\"150.75,-39.07 141.28,-34.34 145.73,-43.95 150.75,-39.07\"/>\n</g>\n<!-- Velocity -->\n<g id=\"node6\" class=\"node\">\n<title>Velocity</title>\n<ellipse fill=\"none\" stroke=\"black\" cx=\"141.37\" cy=\"-234\" rx=\"40.09\" ry=\"18\"/>\n<text text-anchor=\"middle\" x=\"141.37\" y=\"-230.3\" font-family=\"Times,serif\" font-size=\"14.00\">Velocity</text>\n</g>\n<!-- Velocity&#45;&gt;Chord -->\n<g id=\"edge9\" class=\"edge\">\n<title>Velocity&#45;&gt;Chord</title>\n<path fill=\"none\" stroke=\"black\" d=\"M140.17,-215.85C137.58,-178.83 131.43,-91.18 128.29,-46.39\"/>\n<polygon fill=\"black\" stroke=\"black\" points=\"131.77,-45.96 127.58,-36.23 124.79,-46.45 131.77,-45.96\"/>\n</g>\n<!-- Velocity&#45;&gt;Frequency -->\n<g id=\"edge10\" class=\"edge\">\n<title>Velocity&#45;&gt;Frequency</title>\n<path fill=\"none\" stroke=\"black\" d=\"M123.62,-217.46C112.92,-208.11 99.11,-196.02 87.22,-185.62\"/>\n<polygon fill=\"black\" stroke=\"black\" points=\"89.19,-182.68 79.36,-178.73 84.58,-187.95 89.19,-182.68\"/>\n</g>\n<!-- Velocity&#45;&gt;Pressure -->\n<g id=\"edge11\" class=\"edge\">\n<title>Velocity&#45;&gt;Pressure</title>\n<path fill=\"none\" stroke=\"black\" d=\"M147.66,-216.15C156.79,-191.71 173.78,-146.17 184.56,-117.29\"/>\n<polygon fill=\"black\" stroke=\"black\" points=\"187.88,-118.42 188.09,-107.82 181.32,-115.97 187.88,-118.42\"/>\n</g>\n</g>\n</svg>\n",
            "text/plain": [
              "<graphviz.sources.Source at 0x7fa1160a1760>"
            ]
          },
          "metadata": {},
          "execution_count": 8
        }
      ]
    },
    {
      "cell_type": "markdown",
      "source": [
        "## Finding Tetrad classes and methods\n",
        "\n",
        "This tutorial can only cover a little. To become independent in your use of Tetrad, you need to know how to find things yourself.\n",
        "\n",
        "Some Tetrad classes and methods already have nice Python interfaces located in the `tools` folder. Other classes and methods can be found in the Tetrad java package.\n",
        "\n",
        "Expand the following sections to see lists of classes and methods available."
      ],
      "metadata": {
        "id": "4gYwXk1r4Pn4"
      }
    },
    {
      "cell_type": "markdown",
      "source": [
        "### Methods with Python interfaces\n",
        "- The `TetradSearch` class\n",
        "- The `translate` module\n",
        "- The `simulate` module"
      ],
      "metadata": {
        "id": "fUqeIElY_DCm"
      }
    },
    {
      "cell_type": "code",
      "source": [
        "# the tools folder has classes & methods that have already been ported to python\n",
        "! ls tools"
      ],
      "metadata": {
        "colab": {
          "base_uri": "https://localhost:8080/"
        },
        "id": "on5K7Nrz4cMG",
        "outputId": "ef7cc578-325b-4850-916e-bf7f5caaef64"
      },
      "execution_count": null,
      "outputs": [
        {
          "output_type": "stream",
          "name": "stdout",
          "text": [
            "__init__.py  __pycache__  simulate.py  TetradSearch.py\ttranslate.py\n"
          ]
        }
      ]
    },
    {
      "cell_type": "code",
      "source": [
        "# the TetradSearch class that we used above has a lot of methods\n",
        "dir(search)"
      ],
      "metadata": {
        "colab": {
          "base_uri": "https://localhost:8080/"
        },
        "id": "zXbg2u3i-U3M",
        "outputId": "858e3124-287f-41f8-dd83-69db6e83649f"
      },
      "execution_count": null,
      "outputs": [
        {
          "output_type": "execute_result",
          "data": {
            "text/plain": [
              "['SCORE',\n",
              " 'TEST',\n",
              " '__class__',\n",
              " '__delattr__',\n",
              " '__dict__',\n",
              " '__dir__',\n",
              " '__doc__',\n",
              " '__eq__',\n",
              " '__format__',\n",
              " '__ge__',\n",
              " '__getattribute__',\n",
              " '__gt__',\n",
              " '__hash__',\n",
              " '__init__',\n",
              " '__init_subclass__',\n",
              " '__le__',\n",
              " '__lt__',\n",
              " '__module__',\n",
              " '__ne__',\n",
              " '__new__',\n",
              " '__reduce__',\n",
              " '__reduce_ex__',\n",
              " '__repr__',\n",
              " '__setattr__',\n",
              " '__sizeof__',\n",
              " '__str__',\n",
              " '__subclasshook__',\n",
              " '__weakref__',\n",
              " 'add_fobidden',\n",
              " 'add_required',\n",
              " 'add_to_tier',\n",
              " 'bootstrap_dot',\n",
              " 'bootstrap_graph',\n",
              " 'bootstrap_graphs',\n",
              " 'check_knowledge',\n",
              " 'clear_knowledge',\n",
              " 'data',\n",
              " 'get_causal_learn',\n",
              " 'get_data',\n",
              " 'get_dot',\n",
              " 'get_java',\n",
              " 'get_knowledge',\n",
              " 'get_lavaan',\n",
              " 'get_pcalg',\n",
              " 'get_string',\n",
              " 'get_verbose',\n",
              " 'get_xml',\n",
              " 'java',\n",
              " 'knowledge',\n",
              " 'load_knowledge',\n",
              " 'params',\n",
              " 'print_knowledge',\n",
              " 'run_bfci',\n",
              " 'run_boss',\n",
              " 'run_ccd',\n",
              " 'run_cpc',\n",
              " 'run_fci',\n",
              " 'run_fges',\n",
              " 'run_gango',\n",
              " 'run_gfci',\n",
              " 'run_grasp',\n",
              " 'run_grasp_fci',\n",
              " 'run_pc',\n",
              " 'run_pcmax',\n",
              " 'run_sp',\n",
              " 'run_spfci',\n",
              " 'run_svar_fci',\n",
              " 'run_svar_gfci',\n",
              " 'score',\n",
              " 'set_bootstrapping',\n",
              " 'set_data',\n",
              " 'set_knowledge',\n",
              " 'set_time_lag',\n",
              " 'set_verbose',\n",
              " 'test',\n",
              " 'use_bdeu',\n",
              " 'use_chi_square',\n",
              " 'use_conditional_gaussian_score',\n",
              " 'use_conditional_gaussian_test',\n",
              " 'use_degenerate_gaussian_score',\n",
              " 'use_degenerate_gaussian_test',\n",
              " 'use_ebic',\n",
              " 'use_fisher_z',\n",
              " 'use_g_square',\n",
              " 'use_kci',\n",
              " 'use_kim_score',\n",
              " 'use_mixed_variable_polynomial',\n",
              " 'use_poisson_prior',\n",
              " 'use_probabilistic_test',\n",
              " 'use_sem_bic',\n",
              " 'use_zhang_shen_bound']"
            ]
          },
          "metadata": {},
          "execution_count": 25
        }
      ]
    },
    {
      "cell_type": "code",
      "source": [
        "# what if we want to know more about one of these methods?\n",
        "# there's no docstring so the help is not super useful, but it does at least \n",
        "# give us the arguments\n",
        "help(search.run_boss)"
      ],
      "metadata": {
        "colab": {
          "base_uri": "https://localhost:8080/"
        },
        "id": "UdaP_EGl-HFs",
        "outputId": "405104b5-f399-4fe1-cf50-4957dd530beb"
      },
      "execution_count": null,
      "outputs": [
        {
          "output_type": "stream",
          "name": "stdout",
          "text": [
            "Help on method run_boss in module tools.TetradSearch:\n",
            "\n",
            "run_boss(num_starts=1, depth=-1) method of tools.TetradSearch.TetradSearch instance\n",
            "\n"
          ]
        }
      ]
    },
    {
      "cell_type": "code",
      "source": [
        "# you can look at the source code ... though it uses methods imported from\n",
        "# Tetrad, so you might still need to go back to the Java\n",
        "??search.run_boss"
      ],
      "metadata": {
        "id": "Zaaa2NhV-vhU"
      },
      "execution_count": null,
      "outputs": []
    },
    {
      "cell_type": "code",
      "source": [
        "# translation classes and methods\n",
        "import tools.translate as translate\n",
        "dir(translate)"
      ],
      "metadata": {
        "colab": {
          "base_uri": "https://localhost:8080/"
        },
        "id": "oIXuKhoJ94nI",
        "outputId": "07091906-3ea9-4d20-c2ba-ee8308ae68cf"
      },
      "execution_count": null,
      "outputs": [
        {
          "output_type": "execute_result",
          "data": {
            "text/plain": [
              "['BASE_DIR',\n",
              " 'DataFrame',\n",
              " 'Edge',\n",
              " 'Endpoint',\n",
              " 'GeneralGraph',\n",
              " 'GraphNode',\n",
              " '__builtins__',\n",
              " '__cached__',\n",
              " '__doc__',\n",
              " '__file__',\n",
              " '__loader__',\n",
              " '__name__',\n",
              " '__package__',\n",
              " '__spec__',\n",
              " 'jpype',\n",
              " 'np',\n",
              " 'os',\n",
              " 'pandas_data_to_tetrad',\n",
              " 'pd',\n",
              " 'sys',\n",
              " 'td',\n",
              " 'tetrad_data_to_pandas',\n",
              " 'tetrad_graph_to_causal_learn',\n",
              " 'tetrad_graph_to_pcalg',\n",
              " 'util',\n",
              " 'write_gdot']"
            ]
          },
          "metadata": {},
          "execution_count": 13
        }
      ]
    },
    {
      "cell_type": "code",
      "source": [
        "# simulation classes and methods\n",
        "import tools.simulate as sim\n",
        "dir(sim)"
      ],
      "metadata": {
        "colab": {
          "base_uri": "https://localhost:8080/"
        },
        "id": "u9wdJxX79_aw",
        "outputId": "a6372e21-923e-4984-fcb5-4f6618f16edf"
      },
      "execution_count": null,
      "outputs": [
        {
          "output_type": "execute_result",
          "data": {
            "text/plain": [
              "['Parameters',\n",
              " 'Params',\n",
              " '__builtins__',\n",
              " '__cached__',\n",
              " '__doc__',\n",
              " '__file__',\n",
              " '__loader__',\n",
              " '__name__',\n",
              " '__package__',\n",
              " '__spec__',\n",
              " 'graph',\n",
              " 'jpype',\n",
              " 'sim',\n",
              " 'simulateContinuous',\n",
              " 'simulateDiscrete',\n",
              " 'simulateLeeHastie',\n",
              " 'tr']"
            ]
          },
          "metadata": {},
          "execution_count": 14
        }
      ]
    },
    {
      "cell_type": "markdown",
      "source": [
        "### Methods in Tetrad jar\n",
        "\n",
        "You can view [the source code](https://github.com/cmu-phil/tetrad/tree/development/tetrad-lib/src/main/java/edu/cmu/tetrad) for `edu.cmu.tetrad`."
      ],
      "metadata": {
        "id": "FEUbeZG5An6M"
      }
    },
    {
      "cell_type": "code",
      "source": [
        "# we can also import tetrad straight from java\n",
        "import edu.cmu.tetrad as tetrad\n",
        "\n",
        "# show the modules in Tetrad\n",
        "dir(tetrad)"
      ],
      "metadata": {
        "colab": {
          "base_uri": "https://localhost:8080/"
        },
        "id": "dY6M0pKv9Qbr",
        "outputId": "c2718f22-7f88-4477-b441-c819b335a348"
      },
      "execution_count": null,
      "outputs": [
        {
          "output_type": "execute_result",
          "data": {
            "text/plain": [
              "['algcomparison',\n",
              " 'annotation',\n",
              " 'bayes',\n",
              " 'calculator',\n",
              " 'calibration',\n",
              " 'cluster',\n",
              " 'data',\n",
              " 'gene',\n",
              " 'graph',\n",
              " 'performance',\n",
              " 'regression',\n",
              " 'search',\n",
              " 'sem',\n",
              " 'session',\n",
              " 'simulation',\n",
              " 'stat',\n",
              " 'study',\n",
              " 'util']"
            ]
          },
          "metadata": {},
          "execution_count": 15
        }
      ]
    },
    {
      "cell_type": "code",
      "source": [
        "# Find classes within a Tetrad module:\n",
        "dir(tetrad.performance)"
      ],
      "metadata": {
        "colab": {
          "base_uri": "https://localhost:8080/"
        },
        "id": "_-ygNgFDAv62",
        "outputId": "c401f57b-2097-433a-d95d-a6fcf8099c6a"
      },
      "execution_count": null,
      "outputs": [
        {
          "output_type": "execute_result",
          "data": {
            "text/plain": [
              "['Comparison',\n",
              " 'Comparison2',\n",
              " 'ComparisonParameters',\n",
              " 'ComparisonResult',\n",
              " 'ComparisonScript',\n",
              " 'ExploreComparison',\n",
              " 'PerformanceTests',\n",
              " 'PerformanceTestsDan']"
            ]
          },
          "metadata": {},
          "execution_count": 16
        }
      ]
    },
    {
      "cell_type": "markdown",
      "source": [
        "## Evaluate search results"
      ],
      "metadata": {
        "id": "Yj4gT_g-4Swi"
      }
    },
    {
      "cell_type": "code",
      "source": [],
      "metadata": {
        "id": "MZJAgZtI4bqC"
      },
      "execution_count": null,
      "outputs": []
    },
    {
      "cell_type": "code",
      "source": [],
      "metadata": {
        "id": "dE_0iDC5BHaM"
      },
      "execution_count": null,
      "outputs": []
    }
  ]
}